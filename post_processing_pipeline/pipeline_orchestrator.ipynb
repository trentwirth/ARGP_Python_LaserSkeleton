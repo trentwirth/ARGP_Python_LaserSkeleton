{
 "cells": [
  {
   "cell_type": "markdown",
   "source": [],
   "metadata": {
    "collapsed": false,
    "pycharm": {
     "name": "#%% md\n"
    }
   }
  },
  {
   "cell_type": "code",
   "execution_count": 11,
   "outputs": [],
   "source": [
    "import logging\n",
    "\n",
    "from post_processing_pipeline.raw_data_loader import RawDataLoader\n",
    "\n",
    "logger = logging.getLogger(__name__)\n"
   ],
   "metadata": {
    "collapsed": false,
    "pycharm": {
     "name": "#%%\n"
    }
   }
  },
  {
   "cell_type": "code",
   "execution_count": 12,
   "outputs": [],
   "source": [
    "class PipelineOrchestrator:\n",
    "\n",
    "    def __init__(self, session_id: str = 'test2'):\n",
    "        logger.info(f'Initializing Pipeline Orchestrator: {session_id}')\n",
    "\n",
    "        if session_id is None:\n",
    "            self._session_id = 'test'\n",
    "        else:\n",
    "            self._session_id = session_id\n",
    "\n",
    "    @property\n",
    "    def session_id(self):\n",
    "        return self._session_id\n",
    "\n",
    "    def run(self):\n",
    "        logger.info('Running!')\n",
    "        raw_data_loader = RawDataLoader()\n",
    "        self.pupil_data = raw_data_loader.load_pupil_data(self.session_id)\n"
   ],
   "metadata": {
    "collapsed": false,
    "pycharm": {
     "name": "#%%\n"
    }
   }
  },
  {
   "cell_type": "code",
   "execution_count": 13,
   "outputs": [
    {
     "name": "stdout",
     "output_type": "stream",
     "text": [
      "Starting Main Pipeline!\n",
      "test2\n",
      "Pipeline Finished!\n"
     ]
    }
   ],
   "source": [
    "if __name__ == '__main__':\n",
    "    print('Starting Main Pipeline!')\n",
    "    pipeline_orchestrator = PipelineOrchestrator()\n",
    "    pipeline_orchestrator.run()\n",
    "    print(pipeline_orchestrator.session_id)\n",
    "    print('Pipeline Finished!')"
   ],
   "metadata": {
    "collapsed": false,
    "pycharm": {
     "name": "#%%\n"
    }
   }
  }
 ],
 "metadata": {
  "kernelspec": {
   "display_name": "Python 3",
   "language": "python",
   "name": "python3"
  },
  "language_info": {
   "codemirror_mode": {
    "name": "ipython",
    "version": 2
   },
   "file_extension": ".py",
   "mimetype": "text/x-python",
   "name": "python",
   "nbconvert_exporter": "python",
   "pygments_lexer": "ipython2",
   "version": "2.7.6"
  }
 },
 "nbformat": 4,
 "nbformat_minor": 0
}